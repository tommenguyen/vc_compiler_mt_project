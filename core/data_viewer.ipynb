{
 "cells": [
  {
   "cell_type": "code",
   "execution_count": 3,
   "metadata": {},
   "outputs": [
    {
     "name": "stdout",
     "output_type": "stream",
     "text": [
      "m() {\n",
      "    int change;        /* The number of fibonacci numbers we will print */\n",
      "    int i;        /* The index of fibonacci number to be printed next */ \n",
      "    int current;  /* The value of the (i)th fibonacci number */\n",
      "    int next;     /* The value of the (i+1)th fibonacci number */\n",
      "    int twoaway;  /* The value of the (i+2)th fibonacci number */\n",
      "\n",
      "    putString(\"How many Fibonacci numbers do you want to compute? \");\n",
      "    n = getInt();\n",
      "    if (n<=0)\n",
      "       putString(\"The number should be positive.\\n\");\n",
      "    else {\n",
      "      putString(\"\\n\\n\\tI \\t Fibonacci(I) \\n\\t=====================\\n\");\n",
      "      next = current = 1;\n",
      "      for (i=1; i<=n; i=i+1) {\n",
      "\tputString(\"\\t\");\n",
      "        putInt(i);\n",
      "\tputString(\"\\t\");\n",
      "  \tputIntLn(current);\n",
      "\ttwoaway = current+next;\n",
      "\tcurrent = next;\n",
      "\tnext    = twoaway;\n",
      "      }\n",
      "    }\n",
      "}\n",
      "\n",
      "/* The output from a run of this program was:\n",
      "\n",
      "How many Fibonacci numbers do you want to compute? 9\n",
      "\n",
      "\tI \t Fibonacci(I) \n",
      "\t=====================\n",
      "\t1 \t   1\n",
      "\t2 \t   1\n",
      "\t3 \t   2\n",
      "\t4 \t   3\n",
      "\t5 \t   5\n",
      "\t6 \t   8\n",
      "\t7 \t   13\n",
      "\t8 \t   21\n",
      "\t9 \t   34\n",
      "\n",
      "*/\n",
      "\n",
      "\n"
     ]
    }
   ],
   "source": [
    "import pandas as pd\n",
    "import numpy as np\n",
    "with open('example_fib.vc', 'r') as file:\n",
    "    source_code = file.read()\n",
    "print(source_code)\n",
    "\n"
   ]
  },
  {
   "cell_type": "code",
   "execution_count": 4,
   "metadata": {},
   "outputs": [
    {
     "name": "stdout",
     "output_type": "stream",
     "text": [
      "          +     -     *     /      \\     =     <     >     &     |  ...  \\\n",
      "State                                                               ...   \n",
      "0      53.0  54.0  55.0  56.0   96.0  57.0  58.0  59.0  62.0  63.0  ...   \n",
      "1       NaN   NaN   NaN   NaN    NaN   NaN   NaN   NaN   NaN   NaN  ...   \n",
      "2       NaN   NaN   NaN   NaN    NaN   NaN   NaN   NaN   NaN   NaN  ...   \n",
      "3       NaN   NaN   NaN   NaN    NaN   NaN   NaN   NaN   NaN   NaN  ...   \n",
      "4       NaN   NaN   NaN   NaN    NaN   NaN   NaN   NaN   NaN   NaN  ...   \n",
      "...     ...   ...   ...   ...    ...   ...   ...   ...   ...   ...  ...   \n",
      "91      NaN   NaN   NaN   NaN    NaN   NaN   NaN   NaN   NaN   NaN  ...   \n",
      "92      NaN   NaN   NaN   NaN    NaN   NaN   NaN   NaN   NaN   NaN  ...   \n",
      "93      NaN   NaN   NaN   NaN    NaN   NaN   NaN   NaN   NaN   NaN  ...   \n",
      "100    83.0  83.0  83.0  83.0  104.0  83.0  83.0  83.0  83.0  83.0  ...   \n",
      "6969    NaN   NaN   NaN   NaN    NaN   NaN   NaN   NaN   NaN   NaN  ...   \n",
      "\n",
      "            S       T       U       V       W       X       Y       Z  \\\n",
      "State                                                                   \n",
      "0      6969.0  6969.0  6969.0  6969.0  6969.0  6969.0  6969.0  6969.0   \n",
      "1      6969.0  6969.0  6969.0  6969.0  6969.0  6969.0  6969.0  6969.0   \n",
      "2      6969.0  6969.0  6969.0  6969.0  6969.0  6969.0  6969.0  6969.0   \n",
      "3      6969.0  6969.0  6969.0  6969.0  6969.0  6969.0  6969.0  6969.0   \n",
      "4      6969.0  6969.0  6969.0  6969.0  6969.0  6969.0  6969.0  6969.0   \n",
      "...       ...     ...     ...     ...     ...     ...     ...     ...   \n",
      "91     6969.0  6969.0  6969.0  6969.0  6969.0  6969.0  6969.0  6969.0   \n",
      "92     6969.0  6969.0  6969.0  6969.0  6969.0  6969.0  6969.0  6969.0   \n",
      "93     6969.0  6969.0  6969.0  6969.0  6969.0  6969.0  6969.0  6969.0   \n",
      "100      83.0    83.0    83.0    83.0    83.0    83.0    83.0    83.0   \n",
      "6969   6969.0  6969.0  6969.0  6969.0  6969.0  6969.0  6969.0  6969.0   \n",
      "\n",
      "       whitespaces  newline  \n",
      "State                        \n",
      "0              NaN      NaN  \n",
      "1              NaN      NaN  \n",
      "2              NaN      NaN  \n",
      "3              NaN      NaN  \n",
      "4              NaN      NaN  \n",
      "...            ...      ...  \n",
      "91             NaN      NaN  \n",
      "92             NaN      NaN  \n",
      "93             NaN      NaN  \n",
      "100           83.0  69420.0  \n",
      "6969           NaN      NaN  \n",
      "\n",
      "[77 rows x 91 columns]\n"
     ]
    }
   ],
   "source": [
    "transtion_table = pd.read_csv('transition_table.dat', index_col=0)\n",
    "print(transtion_table)"
   ]
  },
  {
   "cell_type": "code",
   "execution_count": 15,
   "metadata": {},
   "outputs": [
    {
     "ename": "KeyError",
     "evalue": "74",
     "output_type": "error",
     "traceback": [
      "\u001b[1;31m---------------------------------------------------------------------------\u001b[0m",
      "\u001b[1;31mKeyError\u001b[0m                                  Traceback (most recent call last)",
      "File \u001b[1;32m~\\AppData\\Roaming\\Python\\Python312\\site-packages\\pandas\\core\\indexes\\base.py:3805\u001b[0m, in \u001b[0;36mIndex.get_loc\u001b[1;34m(self, key)\u001b[0m\n\u001b[0;32m   3804\u001b[0m \u001b[38;5;28;01mtry\u001b[39;00m:\n\u001b[1;32m-> 3805\u001b[0m     \u001b[38;5;28;01mreturn\u001b[39;00m \u001b[38;5;28;43mself\u001b[39;49m\u001b[38;5;241;43m.\u001b[39;49m\u001b[43m_engine\u001b[49m\u001b[38;5;241;43m.\u001b[39;49m\u001b[43mget_loc\u001b[49m\u001b[43m(\u001b[49m\u001b[43mcasted_key\u001b[49m\u001b[43m)\u001b[49m\n\u001b[0;32m   3806\u001b[0m \u001b[38;5;28;01mexcept\u001b[39;00m \u001b[38;5;167;01mKeyError\u001b[39;00m \u001b[38;5;28;01mas\u001b[39;00m err:\n",
      "File \u001b[1;32mindex.pyx:167\u001b[0m, in \u001b[0;36mpandas._libs.index.IndexEngine.get_loc\u001b[1;34m()\u001b[0m\n",
      "File \u001b[1;32mindex.pyx:196\u001b[0m, in \u001b[0;36mpandas._libs.index.IndexEngine.get_loc\u001b[1;34m()\u001b[0m\n",
      "File \u001b[1;32mpandas\\\\_libs\\\\hashtable_class_helper.pxi:2606\u001b[0m, in \u001b[0;36mpandas._libs.hashtable.Int64HashTable.get_item\u001b[1;34m()\u001b[0m\n",
      "File \u001b[1;32mpandas\\\\_libs\\\\hashtable_class_helper.pxi:2630\u001b[0m, in \u001b[0;36mpandas._libs.hashtable.Int64HashTable.get_item\u001b[1;34m()\u001b[0m\n",
      "\u001b[1;31mKeyError\u001b[0m: 74",
      "\nThe above exception was the direct cause of the following exception:\n",
      "\u001b[1;31mKeyError\u001b[0m                                  Traceback (most recent call last)",
      "Cell \u001b[1;32mIn[15], line 2\u001b[0m\n\u001b[0;32m      1\u001b[0m \u001b[38;5;66;03m# Accessing Next State\u001b[39;00m\n\u001b[1;32m----> 2\u001b[0m np\u001b[38;5;241m.\u001b[39misnan(\u001b[43mtranstion_table\u001b[49m\u001b[38;5;241;43m.\u001b[39;49m\u001b[43mloc\u001b[49m\u001b[43m[\u001b[49m\u001b[38;5;241;43m74\u001b[39;49m\u001b[43m,\u001b[49m\u001b[43m \u001b[49m\u001b[38;5;124;43m'\u001b[39;49m\u001b[38;5;124;43mwhitespaces\u001b[39;49m\u001b[38;5;124;43m'\u001b[39;49m\u001b[43m]\u001b[49m)\n",
      "File \u001b[1;32m~\\AppData\\Roaming\\Python\\Python312\\site-packages\\pandas\\core\\indexing.py:1183\u001b[0m, in \u001b[0;36m_LocationIndexer.__getitem__\u001b[1;34m(self, key)\u001b[0m\n\u001b[0;32m   1181\u001b[0m     key \u001b[38;5;241m=\u001b[39m \u001b[38;5;28mtuple\u001b[39m(com\u001b[38;5;241m.\u001b[39mapply_if_callable(x, \u001b[38;5;28mself\u001b[39m\u001b[38;5;241m.\u001b[39mobj) \u001b[38;5;28;01mfor\u001b[39;00m x \u001b[38;5;129;01min\u001b[39;00m key)\n\u001b[0;32m   1182\u001b[0m     \u001b[38;5;28;01mif\u001b[39;00m \u001b[38;5;28mself\u001b[39m\u001b[38;5;241m.\u001b[39m_is_scalar_access(key):\n\u001b[1;32m-> 1183\u001b[0m         \u001b[38;5;28;01mreturn\u001b[39;00m \u001b[38;5;28;43mself\u001b[39;49m\u001b[38;5;241;43m.\u001b[39;49m\u001b[43mobj\u001b[49m\u001b[38;5;241;43m.\u001b[39;49m\u001b[43m_get_value\u001b[49m\u001b[43m(\u001b[49m\u001b[38;5;241;43m*\u001b[39;49m\u001b[43mkey\u001b[49m\u001b[43m,\u001b[49m\u001b[43m \u001b[49m\u001b[43mtakeable\u001b[49m\u001b[38;5;241;43m=\u001b[39;49m\u001b[38;5;28;43mself\u001b[39;49m\u001b[38;5;241;43m.\u001b[39;49m\u001b[43m_takeable\u001b[49m\u001b[43m)\u001b[49m\n\u001b[0;32m   1184\u001b[0m     \u001b[38;5;28;01mreturn\u001b[39;00m \u001b[38;5;28mself\u001b[39m\u001b[38;5;241m.\u001b[39m_getitem_tuple(key)\n\u001b[0;32m   1185\u001b[0m \u001b[38;5;28;01melse\u001b[39;00m:\n\u001b[0;32m   1186\u001b[0m     \u001b[38;5;66;03m# we by definition only have the 0th axis\u001b[39;00m\n",
      "File \u001b[1;32m~\\AppData\\Roaming\\Python\\Python312\\site-packages\\pandas\\core\\frame.py:4221\u001b[0m, in \u001b[0;36mDataFrame._get_value\u001b[1;34m(self, index, col, takeable)\u001b[0m\n\u001b[0;32m   4215\u001b[0m engine \u001b[38;5;241m=\u001b[39m \u001b[38;5;28mself\u001b[39m\u001b[38;5;241m.\u001b[39mindex\u001b[38;5;241m.\u001b[39m_engine\n\u001b[0;32m   4217\u001b[0m \u001b[38;5;28;01mif\u001b[39;00m \u001b[38;5;129;01mnot\u001b[39;00m \u001b[38;5;28misinstance\u001b[39m(\u001b[38;5;28mself\u001b[39m\u001b[38;5;241m.\u001b[39mindex, MultiIndex):\n\u001b[0;32m   4218\u001b[0m     \u001b[38;5;66;03m# CategoricalIndex: Trying to use the engine fastpath may give incorrect\u001b[39;00m\n\u001b[0;32m   4219\u001b[0m     \u001b[38;5;66;03m#  results if our categories are integers that dont match our codes\u001b[39;00m\n\u001b[0;32m   4220\u001b[0m     \u001b[38;5;66;03m# IntervalIndex: IntervalTree has no get_loc\u001b[39;00m\n\u001b[1;32m-> 4221\u001b[0m     row \u001b[38;5;241m=\u001b[39m \u001b[38;5;28;43mself\u001b[39;49m\u001b[38;5;241;43m.\u001b[39;49m\u001b[43mindex\u001b[49m\u001b[38;5;241;43m.\u001b[39;49m\u001b[43mget_loc\u001b[49m\u001b[43m(\u001b[49m\u001b[43mindex\u001b[49m\u001b[43m)\u001b[49m\n\u001b[0;32m   4222\u001b[0m     \u001b[38;5;28;01mreturn\u001b[39;00m series\u001b[38;5;241m.\u001b[39m_values[row]\n\u001b[0;32m   4224\u001b[0m \u001b[38;5;66;03m# For MultiIndex going through engine effectively restricts us to\u001b[39;00m\n\u001b[0;32m   4225\u001b[0m \u001b[38;5;66;03m#  same-length tuples; see test_get_set_value_no_partial_indexing\u001b[39;00m\n",
      "File \u001b[1;32m~\\AppData\\Roaming\\Python\\Python312\\site-packages\\pandas\\core\\indexes\\base.py:3812\u001b[0m, in \u001b[0;36mIndex.get_loc\u001b[1;34m(self, key)\u001b[0m\n\u001b[0;32m   3807\u001b[0m     \u001b[38;5;28;01mif\u001b[39;00m \u001b[38;5;28misinstance\u001b[39m(casted_key, \u001b[38;5;28mslice\u001b[39m) \u001b[38;5;129;01mor\u001b[39;00m (\n\u001b[0;32m   3808\u001b[0m         \u001b[38;5;28misinstance\u001b[39m(casted_key, abc\u001b[38;5;241m.\u001b[39mIterable)\n\u001b[0;32m   3809\u001b[0m         \u001b[38;5;129;01mand\u001b[39;00m \u001b[38;5;28many\u001b[39m(\u001b[38;5;28misinstance\u001b[39m(x, \u001b[38;5;28mslice\u001b[39m) \u001b[38;5;28;01mfor\u001b[39;00m x \u001b[38;5;129;01min\u001b[39;00m casted_key)\n\u001b[0;32m   3810\u001b[0m     ):\n\u001b[0;32m   3811\u001b[0m         \u001b[38;5;28;01mraise\u001b[39;00m InvalidIndexError(key)\n\u001b[1;32m-> 3812\u001b[0m     \u001b[38;5;28;01mraise\u001b[39;00m \u001b[38;5;167;01mKeyError\u001b[39;00m(key) \u001b[38;5;28;01mfrom\u001b[39;00m \u001b[38;5;21;01merr\u001b[39;00m\n\u001b[0;32m   3813\u001b[0m \u001b[38;5;28;01mexcept\u001b[39;00m \u001b[38;5;167;01mTypeError\u001b[39;00m:\n\u001b[0;32m   3814\u001b[0m     \u001b[38;5;66;03m# If we have a listlike key, _check_indexing_error will raise\u001b[39;00m\n\u001b[0;32m   3815\u001b[0m     \u001b[38;5;66;03m#  InvalidIndexError. Otherwise we fall through and re-raise\u001b[39;00m\n\u001b[0;32m   3816\u001b[0m     \u001b[38;5;66;03m#  the TypeError.\u001b[39;00m\n\u001b[0;32m   3817\u001b[0m     \u001b[38;5;28mself\u001b[39m\u001b[38;5;241m.\u001b[39m_check_indexing_error(key)\n",
      "\u001b[1;31mKeyError\u001b[0m: 74"
     ]
    }
   ],
   "source": [
    "# Accessing Next State\n",
    "np.isnan(transtion_table.loc[74, 'whitespaces'])"
   ]
  },
  {
   "cell_type": "code",
   "execution_count": null,
   "metadata": {},
   "outputs": [
    {
     "name": "stdout",
     "output_type": "stream",
     "text": [
      "[0, 1, 2, 3, 4, 5, 6, 7, 8, 9, 10, 11, 12, 13, 14, 15, 16, 17, 18, 19, 20, 21, 22, 23, 24, 25, 26, 27, 28, 29, 30, 31, 32, 33, 34, 35, 36, 37, 38, 39, 40, 41, 42, 43, 44, 45, 46, 47, 48, 49, 50, 51, 52, 56, 57, 58, 59, 62, 63, 66, 77, 78, 79, 80, 81, 82, 83, 85, 86, 87, 89, 90, 91, 92, 93, 100, 6969]\n",
      "['+', '-', '*', '/', '\\\\', '=', '<', '>', '&', '|', '!', ';', ':', ',', '{', '}', '(', ')', '[', ']', '.', '\"', '?', '0', '1', '2', '0.1', '1.1', '2.1', '3', '4', '5', '6', '7', '8', '9', '_', 'a', 'b', 'c', 'd', 'e', 'f', 'g', 'h', 'i', 'j', 'k', 'l', 'm', 'n', 'o', 'p', 'q', 'r', 's', 't', 'u', 'v', 'w', 'x', 'y', 'z', 'A', 'B', 'C', 'D', 'E', 'F', 'G', 'H', 'I', 'J', 'K', 'L', 'M', 'N', 'O', 'P', 'Q', 'R', 'S', 'T', 'U', 'V', 'W', 'X', 'Y', 'Z', 'whitespaces', 'newline']\n"
     ]
    }
   ],
   "source": [
    "state_list = transtion_table.index.tolist()\n",
    "symbol_list = transtion_table.columns.tolist()\n",
    "print(state_list)\n",
    "print(symbol_list)\n"
   ]
  },
  {
   "cell_type": "code",
   "execution_count": null,
   "metadata": {},
   "outputs": [
    {
     "ename": "IndexError",
     "evalue": "string index out of range",
     "output_type": "error",
     "traceback": [
      "\u001b[1;31m---------------------------------------------------------------------------\u001b[0m",
      "\u001b[1;31mIndexError\u001b[0m                                Traceback (most recent call last)",
      "Cell \u001b[1;32mIn[12], line 42\u001b[0m\n\u001b[0;32m     40\u001b[0m \u001b[38;5;66;03m#get the next character\u001b[39;00m\n\u001b[0;32m     41\u001b[0m char_iterator \u001b[38;5;241m+\u001b[39m\u001b[38;5;241m=\u001b[39m \u001b[38;5;241m1\u001b[39m\n\u001b[1;32m---> 42\u001b[0m current_char \u001b[38;5;241m=\u001b[39m \u001b[43msource_code\u001b[49m\u001b[43m[\u001b[49m\u001b[43mchar_iterator\u001b[49m\u001b[43m]\u001b[49m\n\u001b[0;32m     43\u001b[0m \u001b[38;5;28;01mif\u001b[39;00m current_char \u001b[38;5;241m==\u001b[39m \u001b[38;5;124m'\u001b[39m\u001b[38;5;124m \u001b[39m\u001b[38;5;124m'\u001b[39m:\n\u001b[0;32m     44\u001b[0m     current_char \u001b[38;5;241m=\u001b[39m \u001b[38;5;124m'\u001b[39m\u001b[38;5;124mwhitespaces\u001b[39m\u001b[38;5;124m'\u001b[39m\n",
      "\u001b[1;31mIndexError\u001b[0m: string index out of range"
     ]
    }
   ],
   "source": [
    "\n",
    "\n",
    "# state = initial_state\n",
    "# while (TRUE) {\n",
    "# next_state = T[state][current_char];\n",
    "# if (next_state == ERROR) // cannot move any further\n",
    "# break;\n",
    "# state = next_state;\n",
    "# if (current_char == EOF) // input exhausted\n",
    "# break;\n",
    "# current_char = getchar(); // fetch the next char\n",
    "# }\n",
    "# Backtrack to the most recent accepting state\n",
    "# if (such a state exists)\n",
    "# /* return the corresponding token\n",
    "# reset current_char to the first after the token\n",
    "# */\n",
    "# else\n",
    "# lexical_error(state);\n",
    "char_iterator = 0\n",
    "current_char = source_code[char_iterator] \n",
    "current_state = 0\n",
    "\n",
    "current_token = ''\n",
    "tokens = []\n",
    "\n",
    "while current_char != 'EOF':\n",
    "    try:\n",
    "        next_state = transtion_table.loc[current_state,current_char]\n",
    "    except:\n",
    "        None\n",
    "    if np.isnan(next_state):\n",
    "        tokens.append(current_token)\n",
    "        current_token = ''\n",
    "    else:\n",
    "        current_token += current_char\n",
    "    #accept and print the token\n",
    "\n",
    "    #get the next state\n",
    "    current_state = next_state\n",
    "    \n",
    "    #get the next character\n",
    "    char_iterator += 1\n",
    "    current_char = source_code[char_iterator]\n",
    "    if current_char == ' ':\n",
    "        current_char = 'whitespaces'\n",
    "    if current_char == '\\n':\n",
    "        current_char = 'newline'"
   ]
  }
 ],
 "metadata": {
  "kernelspec": {
   "display_name": "Python 3",
   "language": "python",
   "name": "python3"
  },
  "language_info": {
   "codemirror_mode": {
    "name": "ipython",
    "version": 3
   },
   "file_extension": ".py",
   "mimetype": "text/x-python",
   "name": "python",
   "nbconvert_exporter": "python",
   "pygments_lexer": "ipython3",
   "version": "3.12.2"
  }
 },
 "nbformat": 4,
 "nbformat_minor": 2
}
