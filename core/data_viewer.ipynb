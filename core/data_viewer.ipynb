{
 "cells": [
  {
   "cell_type": "code",
   "execution_count": 3,
   "metadata": {},
   "outputs": [
    {
     "name": "stdout",
     "output_type": "stream",
     "text": [
      "/* fibo.c -- It prints out the first N Fibonacci */\n",
      "\n",
      "void main() {\n",
      "    int n;        /* The number of fibonacci numbers we will print */\n",
      "    int i;        /* The index of fibonacci number to be printed next */ \n",
      "    int current;  /* The value of the (i)th fibonacci number */\n",
      "    int next;     /* The value of the (i+1)th fibonacci number */\n",
      "    int twoaway;  /* The value of the (i+2)th fibonacci number */\n",
      "\n",
      "    putString(\"How many Fibonacci numbers do you want to compute? \");\n",
      "    n = getInt();\n",
      "    if (n<=0)\n",
      "       putString(\"The number should be positive.\\n\");\n",
      "    else {\n",
      "      putString(\"\\n\\n\\tI \\t Fibonacci(I) \\n\\t=====================\\n\");\n",
      "      next = current = 1;\n",
      "      for (i=1; i<=n; i=i+1) {\n",
      "\tputString(\"\\t\");\n",
      "        putInt(i);\n",
      "\tputString(\"\\t\");\n",
      "  \tputIntLn(current);\n",
      "\ttwoaway = current+next;\n",
      "\tcurrent = next;\n",
      "\tnext    = twoaway;\n",
      "      }\n",
      "    }\n",
      "}\n",
      "\n",
      "/* The output from a run of this program was:\n",
      "\n",
      "How many Fibonacci numbers do you want to compute? 9\n",
      "\n",
      "\tI \t Fibonacci(I) \n",
      "\t=====================\n",
      "\t1 \t   1\n",
      "\t2 \t   1\n",
      "\t3 \t   2\n",
      "\t4 \t   3\n",
      "\t5 \t   5\n",
      "\t6 \t   8\n",
      "\t7 \t   13\n",
      "\t8 \t   21\n",
      "\t9 \t   34\n",
      "\n",
      "*/\n",
      "\n",
      "$\n"
     ]
    }
   ],
   "source": [
    "import pandas as pd\n",
    "import numpy as np\n",
    "with open('example_fib.vc', 'r') as file:\n",
    "    source_code = file.read()\n",
    "print(source_code)\n",
    "\n"
   ]
  },
  {
   "cell_type": "code",
   "execution_count": 4,
   "metadata": {},
   "outputs": [
    {
     "name": "stdout",
     "output_type": "stream",
     "text": [
      "          +     -     *     /      \\     =     <     >     &     |  ...  \\\n",
      "State                                                               ...   \n",
      "0      53.0  54.0  55.0  56.0   96.0  57.0  58.0  59.0  62.0  63.0  ...   \n",
      "1       NaN   NaN   NaN   NaN    NaN   NaN   NaN   NaN   NaN   NaN  ...   \n",
      "2       NaN   NaN   NaN   NaN    NaN   NaN   NaN   NaN   NaN   NaN  ...   \n",
      "3       NaN   NaN   NaN   NaN    NaN   NaN   NaN   NaN   NaN   NaN  ...   \n",
      "4       NaN   NaN   NaN   NaN    NaN   NaN   NaN   NaN   NaN   NaN  ...   \n",
      "...     ...   ...   ...   ...    ...   ...   ...   ...   ...   ...  ...   \n",
      "91      NaN   NaN   NaN   NaN    NaN   NaN   NaN   NaN   NaN   NaN  ...   \n",
      "92      NaN   NaN   NaN   NaN    NaN   NaN   NaN   NaN   NaN   NaN  ...   \n",
      "93      NaN   NaN   NaN   NaN    NaN   NaN   NaN   NaN   NaN   NaN  ...   \n",
      "100    83.0  83.0  83.0  83.0  104.0  83.0  83.0  83.0  83.0  83.0  ...   \n",
      "6969    NaN   NaN   NaN   NaN    NaN   NaN   NaN   NaN   NaN   NaN  ...   \n",
      "\n",
      "            S       T       U       V       W       X       Y       Z  \\\n",
      "State                                                                   \n",
      "0      6969.0  6969.0  6969.0  6969.0  6969.0  6969.0  6969.0  6969.0   \n",
      "1      6969.0  6969.0  6969.0  6969.0  6969.0  6969.0  6969.0  6969.0   \n",
      "2      6969.0  6969.0  6969.0  6969.0  6969.0  6969.0  6969.0  6969.0   \n",
      "3      6969.0  6969.0  6969.0  6969.0  6969.0  6969.0  6969.0  6969.0   \n",
      "4      6969.0  6969.0  6969.0  6969.0  6969.0  6969.0  6969.0  6969.0   \n",
      "...       ...     ...     ...     ...     ...     ...     ...     ...   \n",
      "91     6969.0  6969.0  6969.0  6969.0  6969.0  6969.0  6969.0  6969.0   \n",
      "92     6969.0  6969.0  6969.0  6969.0  6969.0  6969.0  6969.0  6969.0   \n",
      "93     6969.0  6969.0  6969.0  6969.0  6969.0  6969.0  6969.0  6969.0   \n",
      "100      83.0    83.0    83.0    83.0    83.0    83.0    83.0    83.0   \n",
      "6969   6969.0  6969.0  6969.0  6969.0  6969.0  6969.0  6969.0  6969.0   \n",
      "\n",
      "       whitespaces  newline  \n",
      "State                        \n",
      "0              NaN      NaN  \n",
      "1              NaN      NaN  \n",
      "2              NaN      NaN  \n",
      "3              NaN      NaN  \n",
      "4              NaN      NaN  \n",
      "...            ...      ...  \n",
      "91             NaN      NaN  \n",
      "92             NaN      NaN  \n",
      "93             NaN      NaN  \n",
      "100           83.0  69420.0  \n",
      "6969           NaN      NaN  \n",
      "\n",
      "[77 rows x 92 columns]\n"
     ]
    }
   ],
   "source": [
    "transtion_table = pd.read_csv('transition_table.csv', index_col=0)\n",
    "print(transtion_table)"
   ]
  },
  {
   "cell_type": "code",
   "execution_count": 5,
   "metadata": {},
   "outputs": [
    {
     "data": {
      "text/plain": [
       "False"
      ]
     },
     "execution_count": 5,
     "metadata": {},
     "output_type": "execute_result"
    }
   ],
   "source": [
    "# Accessing Next State\n",
    "np.isnan(transtion_table.loc[2, 'a'])"
   ]
  },
  {
   "cell_type": "code",
   "execution_count": 6,
   "metadata": {},
   "outputs": [
    {
     "name": "stdout",
     "output_type": "stream",
     "text": [
      "[0, 1, 2, 3, 4, 5, 6, 7, 8, 9, 10, 11, 12, 13, 14, 15, 16, 17, 18, 19, 20, 21, 22, 23, 24, 25, 26, 27, 28, 29, 30, 31, 32, 33, 34, 35, 36, 37, 38, 39, 40, 41, 42, 43, 44, 45, 46, 47, 48, 49, 50, 51, 52, 56, 57, 58, 59, 62, 63, 66, 77, 78, 79, 80, 81, 82, 83, 85, 86, 87, 89, 90, 91, 92, 93, 100, 6969]\n",
      "['+', '-', '*', '/', '\\\\', '=', '<', '>', '&', '|', '!', ';', ':', ',', '{', '}', '(', ')', '[', ']', '.', 'Unnamed: 22', '\"', '?', '0', '1', '2', '0.1', '1.1', '2.1', '3', '4', '5', '6', '7', '8', '9', '_', 'a', 'b', 'c', 'd', 'e', 'f', 'g', 'h', 'i', 'j', 'k', 'l', 'm', 'n', 'o', 'p', 'q', 'r', 's', 't', 'u', 'v', 'w', 'x', 'y', 'z', 'A', 'B', 'C', 'D', 'E', 'F', 'G', 'H', 'I', 'J', 'K', 'L', 'M', 'N', 'O', 'P', 'Q', 'R', 'S', 'T', 'U', 'V', 'W', 'X', 'Y', 'Z', 'whitespaces', 'newline']\n"
     ]
    }
   ],
   "source": [
    "state_list = transtion_table.index.tolist()\n",
    "symbol_list = transtion_table.columns.tolist()\n",
    "print(state_list)\n",
    "print(symbol_list)\n"
   ]
  }
 ],
 "metadata": {
  "kernelspec": {
   "display_name": "Python 3",
   "language": "python",
   "name": "python3"
  },
  "language_info": {
   "codemirror_mode": {
    "name": "ipython",
    "version": 3
   },
   "file_extension": ".py",
   "mimetype": "text/x-python",
   "name": "python",
   "nbconvert_exporter": "python",
   "pygments_lexer": "ipython3",
   "version": "3.12.2"
  }
 },
 "nbformat": 4,
 "nbformat_minor": 2
}
